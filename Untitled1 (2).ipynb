{
  "nbformat": 4,
  "nbformat_minor": 0,
  "metadata": {
    "colab": {
      "provenance": []
    },
    "kernelspec": {
      "name": "python3",
      "display_name": "Python 3"
    },
    "language_info": {
      "name": "python"
    }
  },
  "cells": [
    {
      "cell_type": "code",
      "source": [
        "import numpy as np\n",
        "import matplotlib.pyplot as plt\n"
      ],
      "metadata": {
        "id": "pyekvIIU3Y0x"
      },
      "execution_count": 15,
      "outputs": []
    },
    {
      "cell_type": "code",
      "execution_count": 16,
      "metadata": {
        "id": "q7gZb2nG3TcM"
      },
      "outputs": [],
      "source": [
        "class NeuralNetwork:\n",
        "    def __init__(self, input_size, hidden_size, output_size):\n",
        "        self.input_size = input_size\n",
        "        self.hidden_size = hidden_size\n",
        "        self.output_size = output_size\n",
        "\n",
        "        # Initialize weights and biases for the hidden and output layers\n",
        "        self.weights_input_hidden = np.random.randn(self.input_size, self.hidden_size)\n",
        "        self.bias_hidden = np.zeros((1, self.hidden_size))\n",
        "        self.weights_hidden_output = np.random.randn(self.hidden_size, self.output_size)\n",
        "        self.bias_output = np.zeros((1, self.output_size))\n",
        "\n",
        "    def sigmoid(self, x):\n",
        "        return 1 / (1 + np.exp(-x))\n",
        "\n",
        "    def sigmoid_derivative(self, x):\n",
        "        return x * (1 - x)\n",
        "\n",
        "    def forward(self, X):\n",
        "        # Perform the forward pass\n",
        "        hidden_input = np.dot(X, self.weights_input_hidden) + self.bias_hidden\n",
        "        hidden_output = self.sigmoid(hidden_input)\n",
        "\n",
        "        output_input = np.dot(hidden_output, self.weights_hidden_output) + self.bias_output\n",
        "        predicted_output = self.sigmoid(output_input)\n",
        "\n",
        "        return predicted_output, hidden_output\n",
        "\n",
        "    def train(self, X, y, epochs, learning_rate):\n",
        "        for epoch in range(epochs):\n",
        "            # Perform forward propagation\n",
        "            predicted_output, hidden_output = self.forward(X)\n",
        "\n",
        "            # Calculate the error\n",
        "            error = y - predicted_output\n",
        "\n",
        "            # Backpropagation\n",
        "            output_delta = error * self.sigmoid_derivative(predicted_output)\n",
        "            hidden_error = output_delta.dot(self.weights_hidden_output.T)\n",
        "            hidden_delta = hidden_error * self.sigmoid_derivative(hidden_output)\n",
        "\n",
        "            # Update weights and biases using gradient descent\n",
        "            self.weights_hidden_output += hidden_output.T.dot(output_delta) * learning_rate\n",
        "            self.bias_output += np.sum(output_delta) * learning_rate\n",
        "            self.weights_input_hidden += X.T.dot(hidden_delta) * learning_rate\n",
        "            self.bias_hidden += np.sum(hidden_delta) * learning_rate\n",
        "\n",
        "            # Print the error every 1000 epochs\n",
        "            if epoch % 1000 == 0:\n",
        "                print(f\"Error after epoch {epoch}: {np.mean(np.abs(error)):.4f}\")\n",
        "\n",
        "    def predict(self, X):\n",
        "        # Perform a forward pass and return the predicted output\n",
        "        predicted_output, _ = self.forward(X)\n",
        "        return predicted_output\n"
      ]
    },
    {
      "cell_type": "code",
      "source": [
        "# Create a dataset for XOR problem\n",
        "X = np.array([[0, 0], [0, 1], [1, 0], [1, 1]])\n",
        "y = np.array([[1], [0], [1], [0]])\n",
        "print(X)\n",
        "print(y)\n",
        "\n",
        "# Initialize and train the neural network\n",
        "input_size = 2\n",
        "hidden_size = 4\n",
        "output_size = 1\n",
        "epochs = 10000\n",
        "learning_rate = 0.1\n"
      ],
      "metadata": {
        "colab": {
          "base_uri": "https://localhost:8080/"
        },
        "id": "3-gKcbTq3wB1",
        "outputId": "25c7ded4-5bf1-4a19-c0f6-bffb02e669eb"
      },
      "execution_count": 17,
      "outputs": [
        {
          "output_type": "stream",
          "name": "stdout",
          "text": [
            "[[0 0]\n",
            " [0 1]\n",
            " [1 0]\n",
            " [1 1]]\n",
            "[[1]\n",
            " [0]\n",
            " [1]\n",
            " [0]]\n"
          ]
        }
      ]
    },
    {
      "cell_type": "code",
      "source": [
        "model = NeuralNetwork(input_size, hidden_size, output_size)\n",
        "model.train(X, y, epochs, learning_rate)\n",
        "\n",
        "# Predictions after training\n",
        "predictions = model.predict(X)\n",
        "print(\"Predictions after training:\")\n",
        "print(predictions)"
      ],
      "metadata": {
        "colab": {
          "base_uri": "https://localhost:8080/"
        },
        "id": "J2NUvPX430tI",
        "outputId": "a33eb480-0f9f-4b1d-f9bb-b5968a7e0610"
      },
      "execution_count": 18,
      "outputs": [
        {
          "output_type": "stream",
          "name": "stdout",
          "text": [
            "Error after epoch 0: 0.5175\n",
            "Error after epoch 1000: 0.1127\n",
            "Error after epoch 2000: 0.0665\n",
            "Error after epoch 3000: 0.0504\n",
            "Error after epoch 4000: 0.0418\n",
            "Error after epoch 5000: 0.0363\n",
            "Error after epoch 6000: 0.0325\n",
            "Error after epoch 7000: 0.0296\n",
            "Error after epoch 8000: 0.0273\n",
            "Error after epoch 9000: 0.0255\n",
            "Predictions after training:\n",
            "[[0.96273629]\n",
            " [0.0199971 ]\n",
            " [0.98517276]\n",
            " [0.02380357]]\n"
          ]
        }
      ]
    }
  ]
}